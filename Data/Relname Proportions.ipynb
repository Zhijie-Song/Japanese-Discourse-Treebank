{
 "cells": [
  {
   "cell_type": "code",
   "execution_count": 1,
   "id": "9a00d65b",
   "metadata": {},
   "outputs": [],
   "source": [
    "from glob import glob\n",
    "import pickle\n",
    "import numpy as np\n",
    "import os"
   ]
  },
  {
   "cell_type": "code",
   "execution_count": 2,
   "id": "cac786f8",
   "metadata": {},
   "outputs": [],
   "source": [
    "text_list = []"
   ]
  },
  {
   "cell_type": "code",
   "execution_count": 4,
   "id": "f0f18525",
   "metadata": {},
   "outputs": [],
   "source": [
    "folder_path = \"/r3/jp\""
   ]
  },
  {
   "cell_type": "code",
   "execution_count": 7,
   "id": "11a99317",
   "metadata": {},
   "outputs": [],
   "source": [
    "rs3_files = glob(f\"{folder_path}/*.rs3\")"
   ]
  },
  {
   "cell_type": "code",
   "execution_count": 9,
   "id": "2031b43e",
   "metadata": {},
   "outputs": [],
   "source": [
    "for file in rs3_files:\n",
    "    with open(file, encoding=\"utf-8\") as f:\n",
    "        text = f.read()\n",
    "        text_list.append(text)"
   ]
  },
  {
   "cell_type": "code",
   "execution_count": 10,
   "id": "5b970668",
   "metadata": {},
   "outputs": [
    {
     "data": {
      "text/plain": [
       "30"
      ]
     },
     "execution_count": 10,
     "metadata": {},
     "output_type": "execute_result"
    }
   ],
   "source": [
    "len(text_list)"
   ]
  },
  {
   "cell_type": "code",
   "execution_count": 11,
   "id": "add04ad1",
   "metadata": {},
   "outputs": [],
   "source": [
    "import re\n",
    "from collections import Counter\n",
    "pattern = r'relname=\"(.*)\"'"
   ]
  },
  {
   "cell_type": "code",
   "execution_count": 12,
   "id": "cd68d678",
   "metadata": {},
   "outputs": [],
   "source": [
    "from collections import defaultdict\n",
    "rels = defaultdict(int)"
   ]
  },
  {
   "cell_type": "code",
   "execution_count": 13,
   "id": "0e0676ad",
   "metadata": {},
   "outputs": [],
   "source": [
    "for doc in text_list:\n",
    "    matches = re.findall(pattern, doc)\n",
    "    relname_counts = Counter(matches)\n",
    "    for relname, count in relname_counts.items():\n",
    "        rels[relname] += count"
   ]
  },
  {
   "cell_type": "code",
   "execution_count": 14,
   "id": "6d0caf39",
   "metadata": {},
   "outputs": [
    {
     "data": {
      "text/plain": [
       "2325"
      ]
     },
     "execution_count": 14,
     "metadata": {},
     "output_type": "execute_result"
    }
   ],
   "source": [
    "rels.pop('span')"
   ]
  },
  {
   "cell_type": "code",
   "execution_count": 15,
   "id": "2bd50821",
   "metadata": {},
   "outputs": [
    {
     "data": {
      "text/plain": [
       "defaultdict(int,\n",
       "            {'elaboration-additional': 485,\n",
       "             'attribution-positive': 162,\n",
       "             'organization-heading': 83,\n",
       "             'adversative-concession': 153,\n",
       "             'context-circumstance': 62,\n",
       "             'explanation-evidence': 295,\n",
       "             'same-unit': 1206,\n",
       "             'elaboration-attribute': 480,\n",
       "             'mode-means': 83,\n",
       "             'joint-sequence': 425,\n",
       "             'joint-list': 882,\n",
       "             'restatement-repetition': 18,\n",
       "             'organization-preparation': 19,\n",
       "             'adversative-antithesis': 25,\n",
       "             'context-background': 209,\n",
       "             'joint-other': 348,\n",
       "             'adversative-contrast': 92,\n",
       "             'purpose-goal': 33,\n",
       "             'contingency-condition': 41,\n",
       "             'causal-cause': 98,\n",
       "             'explanation-justify': 17,\n",
       "             'evaluation-comment': 21,\n",
       "             'mode-manner': 31,\n",
       "             'restatement-partial': 4,\n",
       "             'joint-disjunction': 9,\n",
       "             'topic-solutionhood': 4,\n",
       "             'topic-question': 4,\n",
       "             'purpose-attribute': 6,\n",
       "             'causal-result': 9,\n",
       "             'organization-phatic': 1})"
      ]
     },
     "execution_count": 15,
     "metadata": {},
     "output_type": "execute_result"
    }
   ],
   "source": [
    "rels"
   ]
  },
  {
   "cell_type": "code",
   "execution_count": 17,
   "id": "79d1c67b",
   "metadata": {},
   "outputs": [],
   "source": [
    "rel_sum = sum(rels.values())"
   ]
  },
  {
   "cell_type": "code",
   "execution_count": 18,
   "id": "9392d7bb",
   "metadata": {},
   "outputs": [],
   "source": [
    "for key in rels.keys():\n",
    "    rels[key] = rels[key] / rel_sum"
   ]
  },
  {
   "cell_type": "code",
   "execution_count": 20,
   "id": "07886fff",
   "metadata": {},
   "outputs": [
    {
     "data": {
      "text/plain": [
       "defaultdict(int,\n",
       "            {'elaboration-additional': 0.09142318567389256,\n",
       "             'attribution-positive': 0.030537229029217718,\n",
       "             'organization-heading': 0.015645617342130064,\n",
       "             'adversative-concession': 0.02884071630537229,\n",
       "             'context-circumstance': 0.011687087653157398,\n",
       "             'explanation-evidence': 0.05560791705937795,\n",
       "             'same-unit': 0.22733270499528746,\n",
       "             'elaboration-attribute': 0.09048067860508954,\n",
       "             'mode-means': 0.015645617342130064,\n",
       "             'joint-sequence': 0.08011310084825636,\n",
       "             'joint-list': 0.16625824693685204,\n",
       "             'restatement-repetition': 0.0033930254476908575,\n",
       "             'organization-preparation': 0.0035815268614514608,\n",
       "             'adversative-antithesis': 0.00471253534401508,\n",
       "             'context-background': 0.03939679547596607,\n",
       "             'joint-other': 0.06559849198868992,\n",
       "             'adversative-contrast': 0.017342130065975493,\n",
       "             'purpose-goal': 0.006220546654099906,\n",
       "             'contingency-condition': 0.007728557964184732,\n",
       "             'causal-cause': 0.018473138548539113,\n",
       "             'explanation-justify': 0.0032045240339302543,\n",
       "             'evaluation-comment': 0.003958529688972668,\n",
       "             'mode-manner': 0.005843543826578699,\n",
       "             'restatement-partial': 0.0007540056550424129,\n",
       "             'joint-disjunction': 0.0016965127238454288,\n",
       "             'topic-solutionhood': 0.0007540056550424129,\n",
       "             'topic-question': 0.0007540056550424129,\n",
       "             'purpose-attribute': 0.0011310084825636192,\n",
       "             'causal-result': 0.0016965127238454288,\n",
       "             'organization-phatic': 0.00018850141376060322})"
      ]
     },
     "execution_count": 20,
     "metadata": {},
     "output_type": "execute_result"
    }
   ],
   "source": [
    "rels"
   ]
  },
  {
   "cell_type": "code",
   "execution_count": 21,
   "id": "c335a245",
   "metadata": {},
   "outputs": [
    {
     "name": "stdout",
     "output_type": "stream",
     "text": [
      "{'same-unit': 0.22733270499528746, 'joint-list': 0.16625824693685204, 'elaboration-additional': 0.09142318567389256, 'elaboration-attribute': 0.09048067860508954, 'joint-sequence': 0.08011310084825636, 'joint-other': 0.06559849198868992, 'explanation-evidence': 0.05560791705937795, 'context-background': 0.03939679547596607, 'attribution-positive': 0.030537229029217718, 'adversative-concession': 0.02884071630537229, 'causal-cause': 0.018473138548539113, 'adversative-contrast': 0.017342130065975493, 'organization-heading': 0.015645617342130064, 'mode-means': 0.015645617342130064, 'context-circumstance': 0.011687087653157398, 'contingency-condition': 0.007728557964184732, 'purpose-goal': 0.006220546654099906, 'mode-manner': 0.005843543826578699, 'adversative-antithesis': 0.00471253534401508, 'evaluation-comment': 0.003958529688972668, 'organization-preparation': 0.0035815268614514608, 'restatement-repetition': 0.0033930254476908575, 'explanation-justify': 0.0032045240339302543, 'joint-disjunction': 0.0016965127238454288, 'causal-result': 0.0016965127238454288, 'purpose-attribute': 0.0011310084825636192, 'restatement-partial': 0.0007540056550424129, 'topic-solutionhood': 0.0007540056550424129, 'topic-question': 0.0007540056550424129, 'organization-phatic': 0.00018850141376060322}\n"
     ]
    }
   ],
   "source": [
    "sorted_dict = dict(sorted(rels.items(), key=lambda item: item[1], reverse=True))\n",
    "\n",
    "print(sorted_dict)"
   ]
  }
 ],
 "metadata": {
  "kernelspec": {
   "display_name": "Python 3 (ipykernel)",
   "language": "python",
   "name": "python3"
  },
  "language_info": {
   "codemirror_mode": {
    "name": "ipython",
    "version": 3
   },
   "file_extension": ".py",
   "mimetype": "text/x-python",
   "name": "python",
   "nbconvert_exporter": "python",
   "pygments_lexer": "ipython3",
   "version": "3.11.7"
  }
 },
 "nbformat": 4,
 "nbformat_minor": 5
}
